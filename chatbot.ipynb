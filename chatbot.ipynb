{
 "cells": [
  {
   "cell_type": "code",
   "execution_count": null,
   "id": "e8caa0bd-884f-4ac2-b55b-858b82b0f968",
   "metadata": {},
   "outputs": [],
   "source": [
    "import os\n",
    "import json\n",
    "import datetime\n",
    "import csv\n",
    "import nltk\n",
    "import ssl\n",
    "import random\n",
    "from sklearn.feature_extraction.text import TfidfVectorizer\n",
    "from sklearn.linear_model import LogisticRegression"
   ]
  },
  {
   "cell_type": "code",
   "execution_count": 2,
   "id": "f3418cd9-336d-4df1-81d1-081403731369",
   "metadata": {},
   "outputs": [
    {
     "name": "stderr",
     "output_type": "stream",
     "text": [
      "[nltk_data] Downloading package punkt to\n",
      "[nltk_data]     C:\\Users\\tanay\\AppData\\Roaming\\nltk_data...\n",
      "[nltk_data]   Package punkt is already up-to-date!\n"
     ]
    },
    {
     "data": {
      "text/plain": [
       "True"
      ]
     },
     "execution_count": 2,
     "metadata": {},
     "output_type": "execute_result"
    }
   ],
   "source": [
    "ssl._create_default_https_context = ssl._create_unverified_context\n",
    "nltk.data.path.append(os.path.abspath(\"nltk_data\"))\n",
    "nltk.download('punkt')"
   ]
  },
  {
   "cell_type": "code",
   "execution_count": 3,
   "id": "63c9f385-5cad-406c-a6e2-10cbc9f338e3",
   "metadata": {},
   "outputs": [],
   "source": [
    "# Load intents from the JSON file\n",
    "file_path = os.path.abspath(\"D:/Project/git/Chatbot/intents.json\")\n",
    "with open(file_path, \"r\") as file:\n",
    "    intents = json.load(file)"
   ]
  },
  {
   "cell_type": "code",
   "execution_count": 4,
   "id": "78ce565c-eeae-463d-af6f-097562a22287",
   "metadata": {},
   "outputs": [],
   "source": [
    "# Create the vectorizer and classifier\n",
    "vectorizer = TfidfVectorizer(ngram_range=(1, 4))\n",
    "clf = LogisticRegression(random_state=0, max_iter=10000)"
   ]
  },
  {
   "cell_type": "code",
   "execution_count": 5,
   "id": "936c83b8-994a-4aeb-925b-a852af0a89df",
   "metadata": {},
   "outputs": [
    {
     "data": {
      "text/html": [
       "<style>#sk-container-id-1 {color: black;}#sk-container-id-1 pre{padding: 0;}#sk-container-id-1 div.sk-toggleable {background-color: white;}#sk-container-id-1 label.sk-toggleable__label {cursor: pointer;display: block;width: 100%;margin-bottom: 0;padding: 0.3em;box-sizing: border-box;text-align: center;}#sk-container-id-1 label.sk-toggleable__label-arrow:before {content: \"▸\";float: left;margin-right: 0.25em;color: #696969;}#sk-container-id-1 label.sk-toggleable__label-arrow:hover:before {color: black;}#sk-container-id-1 div.sk-estimator:hover label.sk-toggleable__label-arrow:before {color: black;}#sk-container-id-1 div.sk-toggleable__content {max-height: 0;max-width: 0;overflow: hidden;text-align: left;background-color: #f0f8ff;}#sk-container-id-1 div.sk-toggleable__content pre {margin: 0.2em;color: black;border-radius: 0.25em;background-color: #f0f8ff;}#sk-container-id-1 input.sk-toggleable__control:checked~div.sk-toggleable__content {max-height: 200px;max-width: 100%;overflow: auto;}#sk-container-id-1 input.sk-toggleable__control:checked~label.sk-toggleable__label-arrow:before {content: \"▾\";}#sk-container-id-1 div.sk-estimator input.sk-toggleable__control:checked~label.sk-toggleable__label {background-color: #d4ebff;}#sk-container-id-1 div.sk-label input.sk-toggleable__control:checked~label.sk-toggleable__label {background-color: #d4ebff;}#sk-container-id-1 input.sk-hidden--visually {border: 0;clip: rect(1px 1px 1px 1px);clip: rect(1px, 1px, 1px, 1px);height: 1px;margin: -1px;overflow: hidden;padding: 0;position: absolute;width: 1px;}#sk-container-id-1 div.sk-estimator {font-family: monospace;background-color: #f0f8ff;border: 1px dotted black;border-radius: 0.25em;box-sizing: border-box;margin-bottom: 0.5em;}#sk-container-id-1 div.sk-estimator:hover {background-color: #d4ebff;}#sk-container-id-1 div.sk-parallel-item::after {content: \"\";width: 100%;border-bottom: 1px solid gray;flex-grow: 1;}#sk-container-id-1 div.sk-label:hover label.sk-toggleable__label {background-color: #d4ebff;}#sk-container-id-1 div.sk-serial::before {content: \"\";position: absolute;border-left: 1px solid gray;box-sizing: border-box;top: 0;bottom: 0;left: 50%;z-index: 0;}#sk-container-id-1 div.sk-serial {display: flex;flex-direction: column;align-items: center;background-color: white;padding-right: 0.2em;padding-left: 0.2em;position: relative;}#sk-container-id-1 div.sk-item {position: relative;z-index: 1;}#sk-container-id-1 div.sk-parallel {display: flex;align-items: stretch;justify-content: center;background-color: white;position: relative;}#sk-container-id-1 div.sk-item::before, #sk-container-id-1 div.sk-parallel-item::before {content: \"\";position: absolute;border-left: 1px solid gray;box-sizing: border-box;top: 0;bottom: 0;left: 50%;z-index: -1;}#sk-container-id-1 div.sk-parallel-item {display: flex;flex-direction: column;z-index: 1;position: relative;background-color: white;}#sk-container-id-1 div.sk-parallel-item:first-child::after {align-self: flex-end;width: 50%;}#sk-container-id-1 div.sk-parallel-item:last-child::after {align-self: flex-start;width: 50%;}#sk-container-id-1 div.sk-parallel-item:only-child::after {width: 0;}#sk-container-id-1 div.sk-dashed-wrapped {border: 1px dashed gray;margin: 0 0.4em 0.5em 0.4em;box-sizing: border-box;padding-bottom: 0.4em;background-color: white;}#sk-container-id-1 div.sk-label label {font-family: monospace;font-weight: bold;display: inline-block;line-height: 1.2em;}#sk-container-id-1 div.sk-label-container {text-align: center;}#sk-container-id-1 div.sk-container {/* jupyter's `normalize.less` sets `[hidden] { display: none; }` but bootstrap.min.css set `[hidden] { display: none !important; }` so we also need the `!important` here to be able to override the default hidden behavior on the sphinx rendered scikit-learn.org. See: https://github.com/scikit-learn/scikit-learn/issues/21755 */display: inline-block !important;position: relative;}#sk-container-id-1 div.sk-text-repr-fallback {display: none;}</style><div id=\"sk-container-id-1\" class=\"sk-top-container\"><div class=\"sk-text-repr-fallback\"><pre>LogisticRegression(max_iter=10000, random_state=0)</pre><b>In a Jupyter environment, please rerun this cell to show the HTML representation or trust the notebook. <br />On GitHub, the HTML representation is unable to render, please try loading this page with nbviewer.org.</b></div><div class=\"sk-container\" hidden><div class=\"sk-item\"><div class=\"sk-estimator sk-toggleable\"><input class=\"sk-toggleable__control sk-hidden--visually\" id=\"sk-estimator-id-1\" type=\"checkbox\" checked><label for=\"sk-estimator-id-1\" class=\"sk-toggleable__label sk-toggleable__label-arrow\">LogisticRegression</label><div class=\"sk-toggleable__content\"><pre>LogisticRegression(max_iter=10000, random_state=0)</pre></div></div></div></div></div>"
      ],
      "text/plain": [
       "LogisticRegression(max_iter=10000, random_state=0)"
      ]
     },
     "execution_count": 5,
     "metadata": {},
     "output_type": "execute_result"
    }
   ],
   "source": [
    "# Preprocess the data\n",
    "tags = []\n",
    "patterns = []\n",
    "for intent in intents:\n",
    "    for pattern in intent['patterns']:\n",
    "        tags.append(intent['tag'])\n",
    "        patterns.append(pattern)\n",
    "\n",
    "# training the model\n",
    "x = vectorizer.fit_transform(patterns)\n",
    "y = tags\n",
    "clf.fit(x, y)\n"
   ]
  },
  {
   "cell_type": "code",
   "execution_count": 6,
   "id": "1bd3bf38-cadd-40b4-9a24-31ddb00fe618",
   "metadata": {},
   "outputs": [],
   "source": [
    "def chatbot(input_text):\n",
    "    input_text = vectorizer.transform([input_text])\n",
    "    tag = clf.predict(input_text)[0]\n",
    "    for intent in intents:\n",
    "        if intent['tag'] == tag:\n",
    "            response = random.choice(intent['responses'])\n",
    "            return response\n",
    "        \n",
    "counter = 0"
   ]
  },
  {
   "cell_type": "code",
   "execution_count": null,
   "id": "942ceb00-1ea5-4cde-bc4e-44097778cfd9",
   "metadata": {},
   "outputs": [
    {
     "name": "stdout",
     "output_type": "stream",
     "text": [
      "=== Intents of Chatbot using NLP ===\n",
      "\n",
      "Menu:\n",
      "1. Home\n",
      "2. Conversation History\n",
      "3. About\n",
      "4. Exit\n"
     ]
    },
    {
     "name": "stdout",
     "output_type": "stream",
     "text": [
      "Select an option (1-4):  1\n"
     ]
    },
    {
     "name": "stdout",
     "output_type": "stream",
     "text": [
      "\n",
      "Welcome to the chatbot. Type a message and press Enter to start the conversation.\n"
     ]
    },
    {
     "name": "stdout",
     "output_type": "stream",
     "text": [
      "You:  hello\n"
     ]
    },
    {
     "name": "stdout",
     "output_type": "stream",
     "text": [
      "Chatbot: Hey\n"
     ]
    },
    {
     "name": "stdout",
     "output_type": "stream",
     "text": [
      "You:  lets go for party\n"
     ]
    },
    {
     "name": "stdout",
     "output_type": "stream",
     "text": [
      "Chatbot: Growing a vegetable garden allows you to enjoy fresh produce and connect with nature.\n"
     ]
    },
    {
     "name": "stdout",
     "output_type": "stream",
     "text": [
      "You:  tell we about yourself\n"
     ]
    },
    {
     "name": "stdout",
     "output_type": "stream",
     "text": [
      "Chatbot: Growing a vegetable garden allows you to enjoy fresh produce and connect with nature.\n"
     ]
    },
    {
     "name": "stdout",
     "output_type": "stream",
     "text": [
      "You:  what your name\n"
     ]
    },
    {
     "name": "stdout",
     "output_type": "stream",
     "text": [
      "Chatbot: You can call me Chatbot.\n"
     ]
    },
    {
     "name": "stdout",
     "output_type": "stream",
     "text": [
      "You:  tel me the current time\n"
     ]
    },
    {
     "name": "stdout",
     "output_type": "stream",
     "text": [
      "Chatbot: As an AI, I don't watch movies, but I can suggest some popular ones like The Shawshank Redemption, Inception, or The Godfather.\n"
     ]
    },
    {
     "name": "stdout",
     "output_type": "stream",
     "text": [
      "You:  time\n"
     ]
    },
    {
     "name": "stdout",
     "output_type": "stream",
     "text": [
      "Chatbot: Gardening tips include choosing the right plants for your climate, watering properly, and using organic fertilizers.\n"
     ]
    },
    {
     "name": "stdout",
     "output_type": "stream",
     "text": [
      "You:  exit\n"
     ]
    },
    {
     "name": "stdout",
     "output_type": "stream",
     "text": [
      "Exiting the conversation. Thank you!\n",
      "\n",
      "Menu:\n",
      "1. Home\n",
      "2. Conversation History\n",
      "3. About\n",
      "4. Exit\n"
     ]
    },
    {
     "name": "stdout",
     "output_type": "stream",
     "text": [
      "Select an option (1-4):  2\n"
     ]
    },
    {
     "name": "stdout",
     "output_type": "stream",
     "text": [
      "\n",
      "=== Conversation History ===\n",
      "User: hello my name is tanay\n",
      "Chatbot: Echo: hello my name is tanay\n",
      "Timestamp: 2024-12-07 16:41:07\n",
      "---\n",
      "User: hello\n",
      "Chatbot: Echo: hello\n",
      "Timestamp: 2024-12-07 16:41:22\n",
      "---\n",
      "User: 4\n",
      "Chatbot: Echo: 4\n",
      "Timestamp: 2024-12-07 16:42:51\n",
      "---\n",
      "User: \n",
      "Chatbot: Echo: \n",
      "Timestamp: 2024-12-07 16:43:08\n",
      "---\n",
      "User: \n",
      "Chatbot: Echo: \n",
      "Timestamp: 2024-12-07 16:43:09\n",
      "---\n",
      "User: \n",
      "Chatbot: Echo: \n",
      "Timestamp: 2024-12-07 16:43:09\n",
      "---\n",
      "User: \n",
      "Chatbot: Echo: \n",
      "Timestamp: 2024-12-07 16:43:10\n",
      "---\n",
      "User: hello\n",
      "Chatbot: Hey\n",
      "Timestamp: 2024-12-07 16:50:24\n",
      "---\n",
      "User: lets go for party\n",
      "Chatbot: Growing a vegetable garden allows you to enjoy fresh produce and connect with nature.\n",
      "Timestamp: 2024-12-07 16:50:37\n",
      "---\n",
      "User: tell we about yourself\n",
      "Chatbot: Growing a vegetable garden allows you to enjoy fresh produce and connect with nature.\n",
      "Timestamp: 2024-12-07 16:50:57\n",
      "---\n",
      "User: what your name\n",
      "Chatbot: You can call me Chatbot.\n",
      "Timestamp: 2024-12-07 16:51:28\n",
      "---\n",
      "User: tel me the current time\n",
      "Chatbot: As an AI, I don't watch movies, but I can suggest some popular ones like The Shawshank Redemption, Inception, or The Godfather.\n",
      "Timestamp: 2024-12-07 17:03:22\n",
      "---\n",
      "User: time\n",
      "Chatbot: Gardening tips include choosing the right plants for your climate, watering properly, and using organic fertilizers.\n",
      "Timestamp: 2024-12-07 17:03:34\n",
      "---\n",
      "\n",
      "Menu:\n",
      "1. Home\n",
      "2. Conversation History\n",
      "3. About\n",
      "4. Exit\n"
     ]
    },
    {
     "name": "stdout",
     "output_type": "stream",
     "text": [
      "Select an option (1-4):  4\n"
     ]
    },
    {
     "name": "stdout",
     "output_type": "stream",
     "text": [
      "Exiting the application. Goodbye!\n"
     ]
    }
   ],
   "source": [
    "def main():\n",
    "    global counter\n",
    "    print(\"=== Intents of Chatbot using NLP ===\")\n",
    "    \n",
    "    while True:\n",
    "        # Main menu\n",
    "        print(\"\\nMenu:\")\n",
    "        print(\"1. Home\")\n",
    "        print(\"2. Conversation History\")\n",
    "        print(\"3. About\")\n",
    "        print(\"4. Exit\")\n",
    "        choice = input(\"Select an option (1-4): \").strip()\n",
    "        \n",
    "        if choice == \"1\":  # Home\n",
    "            print(\"\\nWelcome to the chatbot. Type a message and press Enter to start the conversation.\")\n",
    "            \n",
    "            # Check if the chat_log.csv file exists, and if not, create it with column names\n",
    "            if not os.path.exists('D:/Project/git/Chatbot/chat_log.csv'):\n",
    "                with open('D:/Project/git/Chatbot/chat_log.csv', 'w', newline='', encoding='utf-8') as csvfile:\n",
    "                    csv_writer = csv.writer(csvfile)\n",
    "                    csv_writer.writerow(['Input_Text', 'Chatbot_Response', 'Timestamp'])\n",
    "\n",
    "            while True:\n",
    "                counter += 1\n",
    "                user_input = input(\"You: \").strip()\n",
    "                \n",
    "                if user_input.lower() in [\"exit\", \"quit\"]:\n",
    "                    print(\"Exiting the conversation. Thank you!\")\n",
    "                    break\n",
    "\n",
    "                # Get chatbot response\n",
    "                response = chatbot(user_input)\n",
    "                print(f\"Chatbot: {response}\")\n",
    "\n",
    "                # Get the current timestamp\n",
    "                timestamp = datetime.datetime.now().strftime(\"%Y-%m-%d %H:%M:%S\")\n",
    "                \n",
    "                # Save the user input and chatbot response to the chat_log.csv file\n",
    "                with open('D:/Project/git/Chatbot/chat_log.csv', 'a', newline='', encoding='utf-8') as csvfile:\n",
    "                    csv_writer = csv.writer(csvfile)\n",
    "                    csv_writer.writerow([user_input, response, timestamp])\n",
    "\n",
    "                if response.lower() in ['goodbye', 'bye']:\n",
    "                    print(\"Thank you for chatting with me. Have a great day!\")\n",
    "                    break\n",
    "\n",
    "        elif choice == \"2\":  # Conversation History\n",
    "            print(\"\\n=== Conversation History ===\")\n",
    "            if os.path.exists('D:/Project/git/Chatbot/chat_log.csv'):\n",
    "                with open('D:/Project/git/Chatbot/chat_log.csv', 'r', encoding='utf-8') as csvfile:\n",
    "                    csv_reader = csv.reader(csvfile)\n",
    "                    next(csv_reader)  # Skip the header row\n",
    "                    for row in csv_reader:\n",
    "                        print(f\"User: {row[0]}\")\n",
    "                        print(f\"Chatbot: {row[1]}\")\n",
    "                        print(f\"Timestamp: {row[2]}\")\n",
    "                        print(\"---\")\n",
    "            else:\n",
    "                print(\"No conversation history found.\")\n",
    "\n",
    "        elif choice == \"3\":  # About\n",
    "            print(\"\\n=== About ===\")\n",
    "            print(\"The goal of this project is to create a chatbot that can understand and respond to user input based on intents.\")\n",
    "            print(\"The chatbot is built using Natural Language Processing (NLP) and Logistic Regression.\")\n",
    "            print(\"\\nProject Highlights:\")\n",
    "            print(\"1. Trained on labeled intents and entities.\")\n",
    "            print(\"2. Provides a Python-based chatbot interface.\")\n",
    "            print(\"\\nDataset:\")\n",
    "            print(\"- Intents: Categories or topics of user inputs (e.g., 'greeting', 'goodbye').\")\n",
    "            print(\"- Entities: Extracted keywords or phrases (e.g., 'Hi', 'Goodbye').\")\n",
    "            print(\"- Responses: Predefined replies associated with intents.\")\n",
    "\n",
    "        elif choice == \"4\":  # Exit\n",
    "            print(\"Exiting the application. Goodbye!\")\n",
    "            break\n",
    "        \n",
    "        else:\n",
    "            print(\"Invalid option. Please select again.\")\n",
    "\n",
    "if __name__ == '__main__':\n",
    "    main()\n"
   ]
  },
  {
   "cell_type": "code",
   "execution_count": null,
   "id": "6d8e0a8c-256a-4944-9946-0cfc469b5324",
   "metadata": {},
   "outputs": [],
   "source": []
  }
 ],
 "metadata": {
  "kernelspec": {
   "display_name": "Python 3 (ipykernel)",
   "language": "python",
   "name": "python3"
  },
  "language_info": {
   "codemirror_mode": {
    "name": "ipython",
    "version": 3
   },
   "file_extension": ".py",
   "mimetype": "text/x-python",
   "name": "python",
   "nbconvert_exporter": "python",
   "pygments_lexer": "ipython3",
   "version": "3.11.7"
  }
 },
 "nbformat": 4,
 "nbformat_minor": 5
}
